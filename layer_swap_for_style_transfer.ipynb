{
  "nbformat": 4,
  "nbformat_minor": 0,
  "metadata": {
    "colab": {
      "provenance": [],
      "authorship_tag": "ABX9TyOZ8QDXzFe4GX6+hwsxFqn6",
      "include_colab_link": true
    },
    "kernelspec": {
      "name": "python3",
      "display_name": "Python 3"
    },
    "language_info": {
      "name": "python"
    },
    "accelerator": "GPU",
    "gpuClass": "standard"
  },
  "cells": [
    {
      "cell_type": "markdown",
      "metadata": {
        "id": "view-in-github",
        "colab_type": "text"
      },
      "source": [
        "<a href=\"https://colab.research.google.com/github/sdelta/ImageGen/blob/main/layer_swap_for_style_transfer.ipynb\" target=\"_parent\"><img src=\"https://colab.research.google.com/assets/colab-badge.svg\" alt=\"Open In Colab\"/></a>"
      ]
    },
    {
      "cell_type": "code",
      "source": [
        "from google.colab import drive\n",
        "drive.mount('/content/drive')"
      ],
      "metadata": {
        "colab": {
          "base_uri": "https://localhost:8080/"
        },
        "id": "i18v-FoPKu0P",
        "outputId": "34e4d52e-b024-4311-fc14-0e4ae5433469"
      },
      "execution_count": 2,
      "outputs": [
        {
          "output_type": "stream",
          "name": "stdout",
          "text": [
            "Mounted at /content/drive\n"
          ]
        }
      ]
    },
    {
      "cell_type": "code",
      "source": [
        "!pip install click requests tqdm pyspng ninja imageio-ffmpeg==0.4.3"
      ],
      "metadata": {
        "colab": {
          "base_uri": "https://localhost:8080/"
        },
        "id": "bbsLKrW85ISu",
        "outputId": "2b5c56fe-4bf5-41c7-f98e-78b8c676fbf6"
      },
      "execution_count": 3,
      "outputs": [
        {
          "output_type": "stream",
          "name": "stdout",
          "text": [
            "Looking in indexes: https://pypi.org/simple, https://us-python.pkg.dev/colab-wheels/public/simple/\n",
            "Requirement already satisfied: click in /usr/local/lib/python3.8/dist-packages (7.1.2)\n",
            "Requirement already satisfied: requests in /usr/local/lib/python3.8/dist-packages (2.23.0)\n",
            "Requirement already satisfied: tqdm in /usr/local/lib/python3.8/dist-packages (4.64.1)\n",
            "Collecting pyspng\n",
            "  Downloading pyspng-0.1.1-cp38-cp38-manylinux_2_17_x86_64.manylinux2014_x86_64.whl (205 kB)\n",
            "\u001b[K     |████████████████████████████████| 205 kB 15.3 MB/s \n",
            "\u001b[?25hCollecting ninja\n",
            "  Downloading ninja-1.11.1-py2.py3-none-manylinux_2_12_x86_64.manylinux2010_x86_64.whl (145 kB)\n",
            "\u001b[K     |████████████████████████████████| 145 kB 67.9 MB/s \n",
            "\u001b[?25hCollecting imageio-ffmpeg==0.4.3\n",
            "  Downloading imageio_ffmpeg-0.4.3-py3-none-manylinux2010_x86_64.whl (26.9 MB)\n",
            "\u001b[K     |████████████████████████████████| 26.9 MB 1.2 MB/s \n",
            "\u001b[?25hRequirement already satisfied: chardet<4,>=3.0.2 in /usr/local/lib/python3.8/dist-packages (from requests) (3.0.4)\n",
            "Requirement already satisfied: certifi>=2017.4.17 in /usr/local/lib/python3.8/dist-packages (from requests) (2022.9.24)\n",
            "Requirement already satisfied: idna<3,>=2.5 in /usr/local/lib/python3.8/dist-packages (from requests) (2.10)\n",
            "Requirement already satisfied: urllib3!=1.25.0,!=1.25.1,<1.26,>=1.21.1 in /usr/local/lib/python3.8/dist-packages (from requests) (1.24.3)\n",
            "Requirement already satisfied: numpy in /usr/local/lib/python3.8/dist-packages (from pyspng) (1.21.6)\n",
            "Installing collected packages: pyspng, ninja, imageio-ffmpeg\n",
            "Successfully installed imageio-ffmpeg-0.4.3 ninja-1.11.1 pyspng-0.1.1\n"
          ]
        }
      ]
    },
    {
      "cell_type": "code",
      "source": [
        "!git clone https://github.com/sdelta/stylegan2-ada-pytorch.git"
      ],
      "metadata": {
        "colab": {
          "base_uri": "https://localhost:8080/"
        },
        "id": "QlazkfAZ5SfS",
        "outputId": "fb6c4e5d-24c7-41be-d2b8-3d498d8f680c"
      },
      "execution_count": 4,
      "outputs": [
        {
          "output_type": "stream",
          "name": "stdout",
          "text": [
            "Cloning into 'stylegan2-ada-pytorch'...\n",
            "remote: Enumerating objects: 164, done.\u001b[K\n",
            "remote: Counting objects: 100% (36/36), done.\u001b[K\n",
            "remote: Compressing objects: 100% (31/31), done.\u001b[K\n",
            "remote: Total 164 (delta 17), reused 13 (delta 5), pack-reused 128\u001b[K\n",
            "Receiving objects: 100% (164/164), 1.15 MiB | 5.68 MiB/s, done.\n",
            "Resolving deltas: 100% (74/74), done.\n"
          ]
        }
      ]
    },
    {
      "cell_type": "code",
      "source": [
        "!wget https://nvlabs-fi-cdn.nvidia.com/stylegan2-ada-pytorch/pretrained/transfer-learning-source-nets/ffhq-res256-mirror-paper256-noaug.pkl"
      ],
      "metadata": {
        "colab": {
          "base_uri": "https://localhost:8080/"
        },
        "id": "qYdu-X-YkRIU",
        "outputId": "158b895d-884f-44d0-d4c7-86e6fb0458f2"
      },
      "execution_count": 5,
      "outputs": [
        {
          "output_type": "stream",
          "name": "stdout",
          "text": [
            "--2022-12-10 09:47:06--  https://nvlabs-fi-cdn.nvidia.com/stylegan2-ada-pytorch/pretrained/transfer-learning-source-nets/ffhq-res256-mirror-paper256-noaug.pkl\n",
            "Resolving nvlabs-fi-cdn.nvidia.com (nvlabs-fi-cdn.nvidia.com)... 65.9.86.33, 65.9.86.103, 65.9.86.106, ...\n",
            "Connecting to nvlabs-fi-cdn.nvidia.com (nvlabs-fi-cdn.nvidia.com)|65.9.86.33|:443... connected.\n",
            "HTTP request sent, awaiting response... 200 OK\n",
            "Length: 295744285 (282M) [binary/octet-stream]\n",
            "Saving to: ‘ffhq-res256-mirror-paper256-noaug.pkl’\n",
            "\n",
            "ffhq-res256-mirror- 100%[===================>] 282.04M   165MB/s    in 1.7s    \n",
            "\n",
            "2022-12-10 09:47:08 (165 MB/s) - ‘ffhq-res256-mirror-paper256-noaug.pkl’ saved [295744285/295744285]\n",
            "\n"
          ]
        }
      ]
    },
    {
      "cell_type": "code",
      "source": [
        "!ls"
      ],
      "metadata": {
        "colab": {
          "base_uri": "https://localhost:8080/"
        },
        "id": "DFtl-xc6qQ5e",
        "outputId": "6397b25b-c65b-4bc0-b8a1-8d1589ac7442"
      },
      "execution_count": null,
      "outputs": [
        {
          "output_type": "stream",
          "name": "stdout",
          "text": [
            "drive\t\t\t\t       sample_data\n",
            "ffhq_glasses.zip\t\t       stylegan2-ada-pytorch\n",
            "ffhq-res256-mirror-paper256-noaug.pkl  stylegan2_ffhq_256.pkl\n",
            "ffhq.zip\n"
          ]
        }
      ]
    },
    {
      "cell_type": "code",
      "source": [
        "orig_net = 'ffhq-res256-mirror-paper256-noaug.pkl'\n",
        "glasses_net = 'drive/MyDrive/stylegan_finetuning/00006-ffhq_glasses-mirror-auto1-kimg1500-resumecustom-freezed10-freezed_mapping/network-snapshot-001000.pkl'\n",
        "finetuned_net = 'drive/MyDrive/stylegan_vanilla/stylegan2_ffhq_256.pkl'\n",
        "\n",
        "seeds = '1-5'"
      ],
      "metadata": {
        "id": "55mgVF0ibJ5_"
      },
      "execution_count": 15,
      "outputs": []
    },
    {
      "cell_type": "code",
      "source": [
        "!python stylegan2-ada-pytorch/generate.py --network={orig_net} --seeds={seeds} --outdir drive/MyDrive/stylegan_vanilla/original"
      ],
      "metadata": {
        "colab": {
          "base_uri": "https://localhost:8080/"
        },
        "id": "fqSSP0b06pqb",
        "outputId": "f83780a7-bd44-41b8-cba9-26424c7ac4a7"
      },
      "execution_count": 12,
      "outputs": [
        {
          "output_type": "stream",
          "name": "stdout",
          "text": [
            "Loading networks from \"ffhq-res256-mirror-paper256-noaug.pkl\"...\n",
            "Generating image for seed 1 (0/5) ...\n",
            "Setting up PyTorch plugin \"bias_act_plugin\"... Done.\n",
            "Setting up PyTorch plugin \"upfirdn2d_plugin\"... Done.\n",
            "Generating image for seed 2 (1/5) ...\n",
            "Generating image for seed 3 (2/5) ...\n",
            "Generating image for seed 4 (3/5) ...\n",
            "Generating image for seed 5 (4/5) ...\n"
          ]
        }
      ]
    },
    {
      "cell_type": "code",
      "source": [
        "!python stylegan2-ada-pytorch/generate.py --network={glasses_net} --seeds={seeds} --outdir drive/MyDrive/stylegan_vanilla/glasses"
      ],
      "metadata": {
        "id": "lMhvOglOqN0-",
        "colab": {
          "base_uri": "https://localhost:8080/"
        },
        "outputId": "9e15abe1-37a9-4af3-df8e-b4b53139454e"
      },
      "execution_count": 16,
      "outputs": [
        {
          "output_type": "stream",
          "name": "stdout",
          "text": [
            "Loading networks from \"drive/MyDrive/stylegan_finetuning/00006-ffhq_glasses-mirror-auto1-kimg1500-resumecustom-freezed10-freezed_mapping/network-snapshot-001000.pkl\"...\n",
            "Generating image for seed 1 (0/5) ...\n",
            "Setting up PyTorch plugin \"bias_act_plugin\"... Done.\n",
            "Setting up PyTorch plugin \"upfirdn2d_plugin\"... Done.\n",
            "Generating image for seed 2 (1/5) ...\n",
            "Generating image for seed 3 (2/5) ...\n",
            "Generating image for seed 4 (3/5) ...\n",
            "Generating image for seed 5 (4/5) ...\n"
          ]
        }
      ]
    },
    {
      "cell_type": "code",
      "source": [
        "!python stylegan2-ada-pytorch/generate.py --network={finetuned_net} --seeds={seeds} --outdir drive/MyDrive/stylegan_vanilla/finetuned"
      ],
      "metadata": {
        "colab": {
          "base_uri": "https://localhost:8080/"
        },
        "id": "L2kIt4Bzc0Rg",
        "outputId": "85010989-7ca7-46d8-bbeb-22a53684cc1f"
      },
      "execution_count": 14,
      "outputs": [
        {
          "output_type": "stream",
          "name": "stdout",
          "text": [
            "Loading networks from \"drive/MyDrive/stylegan_vanilla/stylegan2_ffhq_256.pkl\"...\n",
            "Generating image for seed 1 (0/5) ...\n",
            "Setting up PyTorch plugin \"bias_act_plugin\"... Done.\n",
            "Setting up PyTorch plugin \"upfirdn2d_plugin\"... Done.\n",
            "Generating image for seed 2 (1/5) ...\n",
            "Generating image for seed 3 (2/5) ...\n",
            "Generating image for seed 4 (3/5) ...\n",
            "Generating image for seed 5 (4/5) ...\n"
          ]
        }
      ]
    },
    {
      "cell_type": "code",
      "source": [
        "!python stylegan2-ada-pytorch/layer_swapping.py --src_network={glasses_net} --dst_network={orig_net} --seeds={seeds} --output drive/MyDrive/stylegan_vanilla/orig_to_glasses_layer_swap_grid.png"
      ],
      "metadata": {
        "colab": {
          "base_uri": "https://localhost:8080/"
        },
        "id": "X3sVfPr4c9Se",
        "outputId": "2b7ed554-f92a-42f6-97f1-365f350bed32"
      },
      "execution_count": 22,
      "outputs": [
        {
          "output_type": "stream",
          "name": "stdout",
          "text": [
            "Setting up PyTorch plugin \"bias_act_plugin\"... Done.\n",
            "Setting up PyTorch plugin \"upfirdn2d_plugin\"... Done.\n"
          ]
        }
      ]
    },
    {
      "cell_type": "code",
      "source": [],
      "metadata": {
        "id": "NJDKACe1dxEa"
      },
      "execution_count": null,
      "outputs": []
    }
  ]
}